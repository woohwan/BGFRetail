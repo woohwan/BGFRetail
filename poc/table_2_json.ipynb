{
 "cells": [
  {
   "cell_type": "code",
   "execution_count": 10,
   "metadata": {},
   "outputs": [
    {
     "name": "stdout",
     "output_type": "stream",
     "text": [
      "All tables from sheet '(1) 업무기준' have been extracted and saved to 'output_tables\\(1) 업무기준.json'\n"
     ]
    }
   ],
   "source": [
    "import openpyxl\n",
    "import json\n",
    "import os\n",
    "\n",
    "def extract_tables_to_json(excel_file, output_folder):\n",
    "    # 엑셀 파일 로드\n",
    "    wb = openpyxl.load_workbook(excel_file, data_only=True)\n",
    "    \n",
    "    # 결과 저장 폴더 생성 (없는 경우)\n",
    "    if not os.path.exists(output_folder):\n",
    "        os.makedirs(output_folder)\n",
    "\n",
    "    # 모든 시트에 대해 반복\n",
    "    for sheet in wb.sheetnames:\n",
    "        ws = wb[sheet]\n",
    "        sheet_data = {}  # 현재 시트의 모든 테이블 데이터를 저장할 딕셔너리\n",
    "\n",
    "        # 시트 내의 모든 테이블 확인\n",
    "        for table in ws.tables.values():\n",
    "            # 테이블의 데이터 추출\n",
    "            data = []\n",
    "            for row in ws[table.ref]:\n",
    "                # None 값을 제외하고 데이터 추출\n",
    "                cleaned_row = [cell.value if cell.value is not None else \"\" for cell in row]\n",
    "                data.append(cleaned_row)\n",
    "\n",
    "            if not data or len(data) < 2:\n",
    "                continue  # 데이터가 없거나 헤더만 있는 경우 다음 테이블로\n",
    "\n",
    "            # 첫 번째 행을 헤더로 사용하여 데이터 준비\n",
    "            headers = data[0]\n",
    "            # 빈 열 제거\n",
    "            columns_to_keep = [i for i, header in enumerate(headers) if any(row[i] != \"\" for row in data[1:])]\n",
    "            filtered_data = [[row[i] for i in columns_to_keep] for row in data]\n",
    "\n",
    "            # 테이블 데이터 객체 배열 생성\n",
    "            list_of_data_objects = []\n",
    "            for row in filtered_data[1:]:\n",
    "                metadata = dict(zip(headers, row))\n",
    "                text_summary = \" \".join(str(item) for item in row if item != \"\")\n",
    "                data_object = {\n",
    "                    \"metadata\": metadata,\n",
    "                    \"text\": text_summary\n",
    "                }\n",
    "                list_of_data_objects.append(data_object)\n",
    "\n",
    "            # 테이블 이름을 키로 사용하여 데이터 저장\n",
    "            sheet_data[table.name] = list_of_data_objects\n",
    "\n",
    "        # JSON 파일로 저장\n",
    "        if sheet_data:\n",
    "            json_file_path = os.path.join(output_folder, f\"{sheet}.json\")\n",
    "            with open(json_file_path, 'w', encoding='utf-8') as json_file:\n",
    "                json.dump(sheet_data, json_file, ensure_ascii=False, indent=4)\n",
    "\n",
    "            print(f\"All tables from sheet '{sheet}' have been extracted and saved to '{json_file_path}'\")\n",
    "\n",
    "# 사용 예시\n",
    "extract_tables_to_json('example.xlsx', 'output_tables')\n"
   ]
  },
  {
   "cell_type": "code",
   "execution_count": null,
   "metadata": {},
   "outputs": [],
   "source": []
  }
 ],
 "metadata": {
  "kernelspec": {
   "display_name": "dev",
   "language": "python",
   "name": "python3"
  },
  "language_info": {
   "codemirror_mode": {
    "name": "ipython",
    "version": 3
   },
   "file_extension": ".py",
   "mimetype": "text/x-python",
   "name": "python",
   "nbconvert_exporter": "python",
   "pygments_lexer": "ipython3",
   "version": "3.11.8"
  }
 },
 "nbformat": 4,
 "nbformat_minor": 2
}
