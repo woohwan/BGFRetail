{
 "cells": [
  {
   "cell_type": "code",
   "execution_count": 1,
   "metadata": {},
   "outputs": [],
   "source": [
    "from langchain_community.vectorstores import FAISS\n",
    "from langchain_core.output_parsers import StrOutputParser\n",
    "from langchain_core.runnables import RunnablePassthrough\n",
    "from langchain_openai import OpenAIEmbeddings\n",
    "from langchain_core.messages import AIMessage, HumanMessage\n",
    "from langchain_core.prompts.chat import ChatPromptTemplate\n",
    "from langchain_core.runnables.history import RunnableWithMessageHistory\n",
    "\n",
    "import boto3\n",
    "from langchain_aws import ChatBedrock\n",
    "from langchain.callbacks.streaming_stdout import StreamingStdOutCallbackHandler"
   ]
  },
  {
   "cell_type": "code",
   "execution_count": 2,
   "metadata": {},
   "outputs": [],
   "source": [
    "# Get Retriever\n",
    "def load_vector_db():\n",
    "    # load db\n",
    "    embeddings_model = OpenAIEmbeddings()\n",
    "    vectorestore = FAISS.load_local('./db/faiss', embeddings_model, allow_dangerous_deserialization=True )\n",
    "    retriever = vectorestore.as_retriever()\n",
    "    return retriever\n",
    "\n",
    "retriever = load_vector_db()"
   ]
  },
  {
   "cell_type": "code",
   "execution_count": 3,
   "metadata": {},
   "outputs": [],
   "source": [
    "# Get LLM\n",
    "bedrock_runtime = boto3.client(\n",
    "    service_name=\"bedrock-runtime\",\n",
    "    region_name=\"us-east-1\",\n",
    ")\n",
    "\n",
    "model_id = \"anthropic.claude-3-sonnet-20240229-v1:0\"\n",
    "\n",
    "model_kwargs =  { \n",
    "    \"temperature\": 0.0,\n",
    "    \"top_k\": 250,\n",
    "    \"top_p\": 1,\n",
    "    #\"stop_sequences\": [\"\\n\\nHuman\"],\n",
    "}\n",
    "\n",
    "llm = ChatBedrock(\n",
    "    client=bedrock_runtime,\n",
    "    model_id=model_id,\n",
    "    model_kwargs=model_kwargs,\n",
    "    streaming=True,\n",
    "    callbacks=[StreamingStdOutCallbackHandler()]\n",
    ")"
   ]
  },
  {
   "cell_type": "code",
   "execution_count": 4,
   "metadata": {},
   "outputs": [],
   "source": [
    "def format_docs(docs):\n",
    "    return \"\\n\\n\".join(doc.page_content for doc in docs)"
   ]
  },
  {
   "cell_type": "code",
   "execution_count": 5,
   "metadata": {},
   "outputs": [],
   "source": [
    "# prompt = hub.pull(\"rlm/rag-prompt\")\n",
    "prompt = ChatPromptTemplate.from_messages(\n",
    "    [\n",
    "        (\n",
    "            \"system\",\n",
    "            \"\"\"You are an assistant for question-answering tasks. \n",
    "            Use the following pieces of retrieved context to answer the question. \n",
    "            If you don't know the answer, just say that you don't know. \n",
    "            Use three sentences maximum and keep the answer concise.\n",
    "            \\n\\n\n",
    "            {context}\"\"\"\n",
    "        ),\n",
    "        (\n",
    "            \"human\", \"{question}\",\n",
    "\n",
    "        )\n",
    "    ]\n",
    ")\n",
    "rag_chain = (\n",
    "    {\"context\": retriever | format_docs, \"question\": RunnablePassthrough()}\n",
    "    | prompt\n",
    "    | llm\n",
    "    | StrOutputParser()\n",
    ")"
   ]
  },
  {
   "cell_type": "code",
   "execution_count": 6,
   "metadata": {},
   "outputs": [
    {
     "name": "stdout",
     "output_type": "stream",
     "text": [
      "카카오 계정 약관에 따르면, 회원 가입 규정은 다음과 같습니다.\n",
      "\n",
      "1. 회원 가입 시 허위 사실을 기재하거나 다른 사람의 계정을 도용하는 행위는 금지됩니다.\n",
      "\n",
      "2. 회사는 서비스 제공을 위해 필요한 경우 회원 가입을 제한할 수 있습니다. 예를 들어 서비스 설비 용량에 여유가 없거나, 기술적 문제가 있는 경우 등입니다. \n",
      "\n",
      "3. 회원 자격 정지 기간 중에는 임의로 이용 계약을 해지하고 재가입할 수 없습니다.\n",
      "\n",
      "회원 가입 시에는 정확한 정보를 제공하고, 회사의 정책과 지침을 준수해야 합니다. 회사는 서비스 운영을 위해 필요한 경우 회원 가입을 제한할 수 있는 권한이 있습니다."
     ]
    },
    {
     "data": {
      "text/plain": [
       "'카카오 계정 약관에 따르면, 회원 가입 규정은 다음과 같습니다.\\n\\n1. 회원 가입 시 허위 사실을 기재하거나 다른 사람의 계정을 도용하는 행위는 금지됩니다.\\n\\n2. 회사는 서비스 제공을 위해 필요한 경우 회원 가입을 제한할 수 있습니다. 예를 들어 서비스 설비 용량에 여유가 없거나, 기술적 문제가 있는 경우 등입니다. \\n\\n3. 회원 자격 정지 기간 중에는 임의로 이용 계약을 해지하고 재가입할 수 없습니다.\\n\\n회원 가입 시에는 정확한 정보를 제공하고, 회사의 정책과 지침을 준수해야 합니다. 회사는 서비스 운영을 위해 필요한 경우 회원 가입을 제한할 수 있는 권한이 있습니다.'"
      ]
     },
     "execution_count": 6,
     "metadata": {},
     "output_type": "execute_result"
    }
   ],
   "source": [
    "rag_chain.invoke(\"회원 가입 규정은\")"
   ]
  },
  {
   "cell_type": "markdown",
   "metadata": {},
   "source": [
    "### Chat hisotry 사용하기"
   ]
  },
  {
   "cell_type": "code",
   "execution_count": 7,
   "metadata": {},
   "outputs": [],
   "source": [
    "from langchain.chains import create_history_aware_retriever\n",
    "from langchain_core.prompts import ChatPromptTemplate, MessagesPlaceholder\n",
    "\n",
    "contextualize_q_system_prompt = \"\"\"Given a chat history and the latest user question \\\n",
    "which might reference context in the chat history, formulate a standalone question \\\n",
    "which can be understood without the chat history. Do NOT answer the question, \\\n",
    "just reformulate it if needed and otherwise return it as is.\"\"\"\n",
    "contextualize_q_prompt = ChatPromptTemplate.from_messages(\n",
    "    [\n",
    "        (\"system\", contextualize_q_system_prompt),\n",
    "        MessagesPlaceholder(\"chat_history\"),\n",
    "        (\"human\", \"{input}\"),\n",
    "    ]\n",
    ")\n",
    "history_aware_retriever = create_history_aware_retriever(\n",
    "    llm, retriever, contextualize_q_prompt\n",
    ")"
   ]
  },
  {
   "cell_type": "markdown",
   "metadata": {},
   "source": [
    "### Chain with chat history"
   ]
  },
  {
   "cell_type": "code",
   "execution_count": 8,
   "metadata": {},
   "outputs": [],
   "source": [
    "from langchain.chains import create_retrieval_chain\n",
    "from langchain.chains.combine_documents import create_stuff_documents_chain\n",
    "\n",
    "qa_system_prompt = \"\"\"You are an assistant for question-answering tasks. \\\n",
    "Use the following pieces of retrieved context to answer the question. \\\n",
    "If you don't know the answer, just say that you don't know. \\\n",
    "Use three sentences maximum and keep the answer concise.\\\n",
    "\n",
    "{context}\"\"\"\n",
    "qa_prompt = ChatPromptTemplate.from_messages(\n",
    "    [\n",
    "        (\"system\", qa_system_prompt),\n",
    "        MessagesPlaceholder(\"chat_history\"),\n",
    "        (\"human\", \"{input}\"),\n",
    "    ]\n",
    ")\n",
    "\n",
    "\n",
    "question_answer_chain = create_stuff_documents_chain(llm, qa_prompt)\n",
    "\n",
    "rag_chain = create_retrieval_chain(history_aware_retriever, question_answer_chain)"
   ]
  },
  {
   "cell_type": "code",
   "execution_count": 9,
   "metadata": {},
   "outputs": [
    {
     "name": "stdout",
     "output_type": "stream",
     "text": [
      "요약하면, 카카오 계정 약관에 따르면 회원 가입 시 다음 사항을 준수해야 합니다.\n",
      "\n",
      "1. 이용 신청 시 허위 사실을 기재하거나 다른 사람의 계정을 도용해서는 안 됩니다. \n",
      "\n",
      "2. 회사는 서비스 제공을 위해 필요한 경우 가입을 제한할 수 있습니다. 예를 들어 서비스 설비 용량 부족, 기술적 문제, 재정적 필요성 등의 이유로 가입을 제한할 수 있습니다.\n",
      "\n",
      "3. 회원 자격 정지 기간 중에는 새로 가입할 수 없습니다.\n",
      "\n",
      "회원 가입 시에는 진실된 정보를 제공하고, 회사의 합리적인 가입 제한 사유에 따라야 합니다.카카오콘(Kakao Con)은 카카오가 매년 개최하는 개발자 컨퍼런스입니다. 카카오의 새로운 기술과 서비스를 소개하고, 개발자들이 정보를 공유하고 네트워킹할 수 있는 행사입니다. 카카오콘에서는 카카오의 다양한 서비스와 기술 동향, 개발 사례 등을 살펴볼 수 있습니다. 개발자들에게 유용한 정보와 인사이트를 제공하는 것이 주요 목적입니다.카카오콘은 카카오가 회원들에게 제공하는 가상의 혜택 포인트입니다. 약관에 따르면 카카오콘에 대해 다음과 같이 설명하고 있습니다.\n",
      "\n",
      "1. 카카오콘은 회사가 회원의 개별 서비스 이용 과정에서 지급하는 혜택입니다. 회원은 회사가 정한 방법에 따라 카카오콘을 사용할 수 있습니다.\n",
      "\n",
      "2. 카카오콘은 재산적 가치가 없으며, 현금으로 환전하거나 환불받을 수 없습니다. \n",
      "\n",
      "3. 카카오콘으로 이용 가능한 서비스와 혜택은 회사 정책과 제휴 관계에 따라 수시로 변경될 수 있습니다.\n",
      "\n",
      "4. 회사는 운영 목적상 필요한 경우 카카오콘을 조정, 이용 제한, 소멸 등의 조치를 취할 수 있습니다.\n",
      "\n",
      "요약하면 카카오콘은 현금가치가 없는 가상의 포인트로, 회사가 정한 바에 따라 일정 혜택을 제공받을 수 있습니다.카카오콘은 카카오가 회원들에게 제공하는 가상의 혜택 포인트입니다. 약관에 따르면 카카오콘에 대해 다음과 같이 설명하고 있습니다.\n",
      "\n",
      "1. 카카오콘은 회사가 회원의 개별 서비스 이용 과정에서 지급하는 혜택입니다. 회원은 회사가 정한 방법에 따라 카카오콘을 사용할 수 있습니다.\n",
      "\n",
      "2. 카카오콘은 재산적 가치가 없으며, 현금으로 환전하거나 환불받을 수 없습니다. \n",
      "\n",
      "3. 카카오콘으로 이용 가능한 서비스와 혜택은 회사 정책과 제휴 관계에 따라 수시로 변경될 수 있습니다.\n",
      "\n",
      "4. 회사는 운영 목적상 필요한 경우 카카오콘을 조정, 이용 제한, 소멸 등의 조치를 취할 수 있습니다.\n",
      "\n",
      "요약하면 카카오콘은 현금가치가 없는 가상의 포인트로, 회사가 정한 바에 따라 일정 혜택을 제공받을 수 있습니다.\n"
     ]
    }
   ],
   "source": [
    "chat_history = []\n",
    "\n",
    "question = \"회원 가입 규정은\"\n",
    "ai_msg_1 = rag_chain.invoke({\"input\": question, \"chat_history\": chat_history})\n",
    "chat_history.extend([HumanMessage(content=question), AIMessage(ai_msg_1[\"answer\"])])\n",
    "\n",
    "second_question = \"카카오콘이 뭐냐\"\n",
    "ai_msg_2 = rag_chain.invoke({\"input\": second_question, \"chat_history\": chat_history})\n",
    "\n",
    "print(ai_msg_2[\"answer\"])"
   ]
  },
  {
   "cell_type": "code",
   "execution_count": null,
   "metadata": {},
   "outputs": [],
   "source": []
  }
 ],
 "metadata": {
  "kernelspec": {
   "display_name": "langchain",
   "language": "python",
   "name": "python3"
  },
  "language_info": {
   "codemirror_mode": {
    "name": "ipython",
    "version": 3
   },
   "file_extension": ".py",
   "mimetype": "text/x-python",
   "name": "python",
   "nbconvert_exporter": "python",
   "pygments_lexer": "ipython3",
   "version": "3.11.9"
  }
 },
 "nbformat": 4,
 "nbformat_minor": 2
}
